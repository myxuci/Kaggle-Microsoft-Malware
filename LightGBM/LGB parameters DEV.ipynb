{
 "cells": [
  {
   "cell_type": "code",
   "execution_count": 2,
   "metadata": {},
   "outputs": [
    {
     "name": "stderr",
     "output_type": "stream",
     "text": [
      "c:\\users\\xiaowei.li\\appdata\\local\\continuum\\anaconda3\\envs\\myvirtualpythonenv\\lib\\importlib\\_bootstrap.py:222: RuntimeWarning: numpy.dtype size changed, may indicate binary incompatibility. Expected 96, got 88\n",
      "  return f(*args, **kwds)\n"
     ]
    }
   ],
   "source": [
    "from sklearn.datasets import load_iris\n",
    "import gc\n",
    "from LightGBM_ToolBox import *\n",
    "\n",
    "%load_ext autoreload\n",
    "%autoreload 2"
   ]
  },
  {
   "cell_type": "code",
   "execution_count": 4,
   "metadata": {},
   "outputs": [
    {
     "name": "stdout",
     "output_type": "stream",
     "text": [
      "{'class_weight': None, 'min_child_weight': 0.001, 'subsample_for_bin': 200000, 'max_depth': -1, 'boosting_type': 'gbdt', 'subsample_freq': 0, 'min_split_gain': 0.0, 'reg_lambda': 0.0, 'reg_alpha': 0.0, 'min_child_samples': 20, 'num_leaves': 31, 'colsample_bytree': 1.0, 'n_estimators': 100, 'subsample': 1.0}\n"
     ]
    }
   ],
   "source": [
    "with open('./config/lgb_booster_core_params.json', 'r') as file:\n",
    "    lgb_params = json.load(file)\n",
    "    print(lgb_params)"
   ]
  },
  {
   "cell_type": "code",
   "execution_count": 6,
   "metadata": {},
   "outputs": [
    {
     "name": "stdout",
     "output_type": "stream",
     "text": [
      "{'lambdarank-objectives': ['lambdarank'], 'default-metrics': ['l1', 'mean_absolute_error', 'mae', 'regression_l1', 'l2', 'mean_squared_error', 'mse', 'regression_l2', 'regression', 'l2_root', 'root_mean_squared_error', 'rmse', 'quantile', 'mape', 'mean_absolute_percentage_error', 'huber', 'fair', 'poisson', 'gamma', 'gamma_deviance', 'tweedie', 'ndcg', 'map', 'auc', 'binary_logloss', 'binary_error', 'multi_logloss', 'multiclass', 'softmax', 'multiclassova', 'multiclass_ova', 'ova', 'ovr', 'multi_error', 'xentropy', 'cross_entropy', 'xentlambda', 'cross_entropy_lambda', 'kldiv', 'kullback_leibler'], 'binary-objectives': ['binary'], 'cross-entropy-objectives': ['cross_entropy', 'cross_entropy_lambda'], 'regression-objectives': ['regression', 'regression_l1', 'huber', 'fair', 'poisson', 'quantile', 'mape', 'gamma', 'tweedie'], 'multi-class-objectives': ['multiclass', 'multiclassova']}\n"
     ]
    }
   ],
   "source": [
    "with open('./config/lightgbm_default_settings.json', 'r') as file:\n",
    "    lgb_metric = json.load(file)\n",
    "    print(lgb_metric)"
   ]
  },
  {
   "cell_type": "code",
   "execution_count": null,
   "metadata": {},
   "outputs": [],
   "source": []
  }
 ],
 "metadata": {
  "kernelspec": {
   "display_name": "Python 3",
   "language": "python",
   "name": "python3"
  },
  "language_info": {
   "codemirror_mode": {
    "name": "ipython",
    "version": 3
   },
   "file_extension": ".py",
   "mimetype": "text/x-python",
   "name": "python",
   "nbconvert_exporter": "python",
   "pygments_lexer": "ipython3",
   "version": "3.5.3"
  }
 },
 "nbformat": 4,
 "nbformat_minor": 2
}
